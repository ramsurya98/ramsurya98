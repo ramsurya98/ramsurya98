{
  "nbformat": 4,
  "nbformat_minor": 0,
  "metadata": {
    "colab": {
      "name": "Exercise01.ipynb",
      "provenance": [],
      "authorship_tag": "ABX9TyOaMwdJss3LbZ6lZY16JzWZ",
      "include_colab_link": true
    },
    "kernelspec": {
      "name": "python3",
      "display_name": "Python 3"
    },
    "language_info": {
      "name": "python"
    }
  },
  "cells": [
    {
      "cell_type": "markdown",
      "metadata": {
        "id": "view-in-github",
        "colab_type": "text"
      },
      "source": [
        "<a href=\"https://colab.research.google.com/github/ramsurya98/ramsurya98/blob/main/Exercise01.ipynb\" target=\"_parent\"><img src=\"https://colab.research.google.com/assets/colab-badge.svg\" alt=\"Open In Colab\"/></a>"
      ]
    },
    {
      "cell_type": "markdown",
      "metadata": {
        "id": "stFqqllEAIiL"
      },
      "source": [
        "## 1D-Ising Model"
      ]
    },
    {
      "cell_type": "code",
      "metadata": {
        "id": "X3xL87mmAPa5"
      },
      "source": [
        ""
      ],
      "execution_count": null,
      "outputs": []
    }
  ]
}